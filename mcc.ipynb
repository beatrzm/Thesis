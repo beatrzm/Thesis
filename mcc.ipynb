{
 "cells": [
  {
   "cell_type": "code",
   "execution_count": 1,
   "metadata": {},
   "outputs": [],
   "source": [
    "from statsmodels.stats.multitest import multipletests"
   ]
  },
  {
   "cell_type": "markdown",
   "metadata": {},
   "source": [
    "### 1st Correction (ROIs)"
   ]
  },
  {
   "cell_type": "markdown",
   "metadata": {},
   "source": [
    "#### COPE8"
   ]
  },
  {
   "cell_type": "markdown",
   "metadata": {},
   "source": [
    "p-values"
   ]
  },
  {
   "cell_type": "code",
   "execution_count": 19,
   "metadata": {},
   "outputs": [],
   "source": [
    "order1 = ['right amygdala', 'left amygdala', 'right thalamus', 'left thalamus', 'brainstem', 'hypothalamus', \n",
    "         'anterior parahippocampal gyrus', 'posterior parahippocampal gyrus', 'ACC', 'occipital fusiform gyrus', 'MCC']\n",
    "\n",
    "\n",
    "midvint = [0.6384940458172546, 0.23833381609088078, 0.159015065224059, 0.06827011199554625, 0.88889184950705, 0.16841176991967938, 0.8599502772373349, 0.338275369343802, 0.8512228154956041, 0.7055654656888826, 0.27104810736856083]\n",
    "premvpre = [0.4727736391618439, 0.8249933443824671, 0.2697494928818165, 0.1236928594206259, 0.48416054491019644, 0.16657687694099613, 0.39267071619790683, 0.06686627169851327, 0.018056317227822298, 0.903170992105061, 0.0006190221823934859]\n",
    "premvict = [0.19152846944735974, 0.5156430385591035, 0.3432912879680906, 0.450588241812104, 0.34690459348561753, 0.9038036598368282, 0.20482569086604266, 0.2719978927171628, 0.42063940635987995, 0.4968411776073318, 0.3589341071841795]\n",
    "premvpost = [0.5267966917261996, 0.9541829144600243, 0.2467080296645604, 0.3073674042304936, 0.6610181331268431, 0.2416597566542491, 0.4612028464614971, 0.8508972016044141, 0.763289044399608, 0.3547695313632918, 0.8945822866449247]\n",
    "midvprem = [0.4797911364276827, 0.25863694066190074, 0.6770700933750428, 0.17289865615728245, 0.582056925044129, 0.92521120117305, 0.2787052400458082, 0.08463856744581925, 0.17416786214969932, 0.8411868369464149, 0.10017672239460194]"
   ]
  },
  {
   "cell_type": "markdown",
   "metadata": {},
   "source": [
    "Using non-negative FDR"
   ]
  },
  {
   "cell_type": "code",
   "execution_count": 6,
   "metadata": {},
   "outputs": [],
   "source": [
    "# function that receives a list of bols and returns the positions of the True values\n",
    "\n",
    "def get_positions(bool_list):\n",
    "    positions = []\n",
    "    for i in range(len(bool_list)):\n",
    "        if bool_list[i]:\n",
    "            positions.append(i)\n",
    "    return positions"
   ]
  },
  {
   "cell_type": "code",
   "execution_count": 21,
   "metadata": {},
   "outputs": [
    {
     "name": "stdout",
     "output_type": "stream",
     "text": [
      "midvint:  []\n",
      "premvpre:  [10]\n",
      "premvict:  []\n",
      "premvpost:  []\n",
      "midvprem:  []\n",
      "MCC\n"
     ]
    }
   ],
   "source": [
    "checkmidvint = multipletests(midvint,method='fdr_bh')\n",
    "print(\"midvint: \", get_positions(checkmidvint[0]))\n",
    "\n",
    "checkpremvpre = multipletests(premvpre,method='fdr_bh')\n",
    "print(\"premvpre: \", get_positions(checkpremvpre[0]))\n",
    "\n",
    "checkpremvict = multipletests(premvict,method='fdr_bh')\n",
    "print(\"premvict: \", get_positions(checkpremvict[0]))\n",
    "\n",
    "checkpremvpost = multipletests(premvpost,method='fdr_bh')\n",
    "print(\"premvpost: \", get_positions(checkpremvpost[0]))\n",
    "\n",
    "checkmidvprem = multipletests(midvprem,method='fdr_bh')\n",
    "print(\"midvprem: \", get_positions(checkmidvprem[0]))\n",
    "\n",
    "print(order1[10])"
   ]
  },
  {
   "cell_type": "markdown",
   "metadata": {},
   "source": [
    "Using Bonferroni"
   ]
  },
  {
   "cell_type": "code",
   "execution_count": 24,
   "metadata": {},
   "outputs": [
    {
     "name": "stdout",
     "output_type": "stream",
     "text": [
      "midvint:  []\n",
      "premvpre:  [10]\n",
      "premvict:  []\n",
      "premvpost:  []\n",
      "midvprem:  []\n",
      "MCC\n"
     ]
    }
   ],
   "source": [
    "checkBFmidvint = multipletests(midvint,method='bonferroni')\n",
    "print(\"midvint: \", get_positions(checkBFmidvint[0]))\n",
    "\n",
    "checkBFpremvpre = multipletests(premvpre,method='bonferroni')\n",
    "print(\"premvpre: \", get_positions(checkBFpremvpre[0]))\n",
    "\n",
    "checkBFpremvict = multipletests(premvict,method='bonferroni')\n",
    "print(\"premvict: \", get_positions(checkBFpremvict[0]))\n",
    "\n",
    "checkBFpremvpost = multipletests(premvpost,method='bonferroni')\n",
    "print(\"premvpost: \", get_positions(checkBFpremvpost[0]))\n",
    "\n",
    "checkBFmidvprem = multipletests(midvprem,method='bonferroni')\n",
    "print(\"midvprem: \", get_positions(checkBFmidvprem[0]))\n",
    "\n",
    "print(order1[10])"
   ]
  },
  {
   "cell_type": "markdown",
   "metadata": {},
   "source": [
    "### 2nd Correction (ROIs + Phases)"
   ]
  },
  {
   "cell_type": "markdown",
   "metadata": {},
   "source": [
    "#### COPE8"
   ]
  },
  {
   "cell_type": "markdown",
   "metadata": {},
   "source": [
    "p-values"
   ]
  },
  {
   "cell_type": "code",
   "execution_count": 15,
   "metadata": {},
   "outputs": [],
   "source": [
    "# order \n",
    "\n",
    "order = ['rAmyg midvint', 'lamyg midvint', 'rThal midvint', 'Thal midvint', 'Brainstem midvint', 'Hypothalamus midvint', 'aPHG midvint', 'pPHG midvint', 'ACC midvint', 'OFG midvint', 'MCC midvint',\n",
    "'rAmyg premvpre', 'lAmyg premvpre', 'rThal premvpre', 'lThal premvpre', 'Brainstem premvpre', 'Hypothalamus premvpre', 'aPHG premvpre', 'pPHG premvpre', 'ACC premvpre', 'OFG premvpre', 'MCC premvpre',\n",
    "'rAmyg premvict', 'lAmyg premvict', 'rThal premvict', 'lThal premvict', 'Brainstem premvict', 'Hypothalamus premvict', 'aPHG premvict', 'pPHG premvict', 'ACC premvict', 'OFG premvict', 'MCC premvict',\n",
    "'rAmyg premvpost', 'lAmyg premvpost', 'rThal premvpost', 'lThal premvpost', 'Brainstem premvpost', 'Hypothalamus premvpost', 'aPHG premvpost', 'pPHG premvpost', 'ACC premvpost', 'OFG premvpost', 'MCC premvpost',\n",
    "'rAmyg midvprem', 'lAmyg midvprem', 'rThal midvprem', 'lThal midvprem', 'Brainstem midvprem', 'Hypothalamus midvprem', 'aPHG midvprem', 'pPHG midvprem', 'ACC midvprem', 'OFG midvprem', 'MCC midvprem']\n",
    "\n",
    "\n",
    "\n",
    "allrois_allphases = [\n",
    "    0.6384940458172546, 0.23833381609088078, 0.159015065224059, 0.06827011199554625, 0.88889184950705, 0.16841176991967938, 0.8599502772373349, 0.338275369343802, 0.8512228154956041, 0.7055654656888826, 0.27104810736856083,\n",
    "    0.4727736391618439, 0.8249933443824671, 0.2697494928818165, 0.1236928594206259, 0.48416054491019644, 0.16657687694099613, 0.39267071619790683, 0.06686627169851327, 0.018056317227822298, 0.903170992105061, 0.0006190221823934859,\n",
    "    0.19152846944735974, 0.5156430385591035, 0.3432912879680906, 0.450588241812104, 0.34690459348561753, 0.9038036598368282, 0.20482569086604266, 0.2719978927171628, 0.42063940635987995, 0.4968411776073318, 0.3589341071841795,\n",
    "    0.5267966917261996, 0.9541829144600243, 0.2467080296645604, 0.3073674042304936, 0.6610181331268431, 0.2416597566542491, 0.4612028464614971, 0.8508972016044141, 0.763289044399608, 0.3547695313632918, 0.8945822866449247,\n",
    "    0.4797911364276827, 0.25863694066190074, 0.6770700933750428, 0.17289865615728245, 0.582056925044129, 0.92521120117305, 0.2787052400458082, 0.08463856744581925, 0.17416786214969932, 0.8411868369464149, 0.10017672239460194\n",
    "]"
   ]
  },
  {
   "cell_type": "markdown",
   "metadata": {},
   "source": [
    "Using FDR"
   ]
  },
  {
   "cell_type": "code",
   "execution_count": 18,
   "metadata": {},
   "outputs": [
    {
     "name": "stdout",
     "output_type": "stream",
     "text": [
      "allrois_allphases:  [21]\n",
      "MCC premvpre\n"
     ]
    }
   ],
   "source": [
    "checkallrois_allphases = multipletests(allrois_allphases,method='fdr_bh')\n",
    "\n",
    "print(\"allrois_allphases: \", get_positions(checkallrois_allphases[0]))\n",
    "\n",
    "print(order[21])"
   ]
  },
  {
   "cell_type": "markdown",
   "metadata": {},
   "source": [
    "Using Bonferroni"
   ]
  },
  {
   "cell_type": "code",
   "execution_count": 26,
   "metadata": {},
   "outputs": [
    {
     "name": "stdout",
     "output_type": "stream",
     "text": [
      "allrois_allphases:  [21]\n",
      "MCC premvpre\n"
     ]
    }
   ],
   "source": [
    "checkBFallrois_allphases = multipletests(allrois_allphases,method='bonferroni')\n",
    "\n",
    "print(\"allrois_allphases: \", get_positions(checkBFallrois_allphases[0]))\n",
    "\n",
    "print(order[21])"
   ]
  }
 ],
 "metadata": {
  "kernelspec": {
   "display_name": "Python 3",
   "language": "python",
   "name": "python3"
  },
  "language_info": {
   "codemirror_mode": {
    "name": "ipython",
    "version": 3
   },
   "file_extension": ".py",
   "mimetype": "text/x-python",
   "name": "python",
   "nbconvert_exporter": "python",
   "pygments_lexer": "ipython3",
   "version": "3.11.2"
  }
 },
 "nbformat": 4,
 "nbformat_minor": 2
}
