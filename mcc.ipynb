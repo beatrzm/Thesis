{
 "cells": [
  {
   "cell_type": "code",
   "execution_count": 25,
   "metadata": {},
   "outputs": [],
   "source": [
    "from statsmodels.stats.multitest import multipletests"
   ]
  },
  {
   "cell_type": "markdown",
   "metadata": {},
   "source": [
    "# Emotional Network"
   ]
  },
  {
   "cell_type": "markdown",
   "metadata": {},
   "source": [
    "### 1st Correction (ROIs)"
   ]
  },
  {
   "cell_type": "markdown",
   "metadata": {},
   "source": [
    "#### COPE8"
   ]
  },
  {
   "cell_type": "markdown",
   "metadata": {},
   "source": [
    "p-values"
   ]
  },
  {
   "cell_type": "code",
   "execution_count": 26,
   "metadata": {},
   "outputs": [],
   "source": [
    "order1 = ['right amygdala', 'left amygdala', 'right thalamus', 'left thalamus', 'brainstem', 'hypothalamus', \n",
    "         'anterior parahippocampal gyrus', 'posterior parahippocampal gyrus', 'ACC', 'occipital fusiform gyrus', 'MCC','PCC']\n",
    "\n",
    "\n",
    "midvint = [0.6384940458172546, 0.23833381609088078, 0.159015065224059, 0.06827011199554625, 0.88889184950705, 0.16841176991967938, 0.8599502772373349, 0.338275369343802, 0.8512228154956041, 0.7055654656888826, 0.27104810736856083, 0.69033222586917]\n",
    "premvpre = [0.4727736391618439, 0.8249933443824671, 0.2697494928818165, 0.1236928594206259, 0.48416054491019644, 0.16657687694099613, 0.39267071619790683, 0.06686627169851327, 0.018056317227822298, 0.903170992105061, 0.0006190221823934859, 0.041413474068937604]\n",
    "premvict = [0.19152846944735974, 0.5156430385591035, 0.3432912879680906, 0.450588241812104, 0.34690459348561753, 0.9038036598368282, 0.20482569086604266, 0.2719978927171628, 0.42063940635987995, 0.4968411776073318, 0.3589341071841795, 0.8939754557016597]\n",
    "premvpost = [0.5267966917261996, 0.9541829144600243, 0.2467080296645604, 0.3073674042304936, 0.6610181331268431, 0.2416597566542491, 0.4612028464614971, 0.8508972016044141, 0.763289044399608, 0.3547695313632918, 0.8945822866449247, 0.8338796410201361]\n",
    "midvprem = [0.4797911364276827, 0.25863694066190074, 0.6770700933750428, 0.17289865615728245, 0.582056925044129, 0.92521120117305, 0.2787052400458082, 0.08463856744581925, 0.17416786214969932, 0.8411868369464149, 0.10017672239460194, 0.1746318969000263]"
   ]
  },
  {
   "cell_type": "markdown",
   "metadata": {},
   "source": [
    "Using non-negative FDR"
   ]
  },
  {
   "cell_type": "code",
   "execution_count": 27,
   "metadata": {},
   "outputs": [],
   "source": [
    "# function that receives a list of bols and returns the positions of the True values\n",
    "\n",
    "def get_positions(bool_list):\n",
    "    positions = []\n",
    "    for i in range(len(bool_list)):\n",
    "        if bool_list[i]:\n",
    "            positions.append(i)\n",
    "    return positions"
   ]
  },
  {
   "cell_type": "code",
   "execution_count": 28,
   "metadata": {},
   "outputs": [
    {
     "name": "stdout",
     "output_type": "stream",
     "text": [
      "midvint:  []\n",
      "premvpre:  [10]\n",
      "premvict:  []\n",
      "premvpost:  []\n",
      "midvprem:  []\n",
      "MCC\n"
     ]
    }
   ],
   "source": [
    "checkmidvint = multipletests(midvint,method='fdr_bh')\n",
    "print(\"midvint: \", get_positions(checkmidvint[0]))\n",
    "\n",
    "checkpremvpre = multipletests(premvpre,method='fdr_bh')\n",
    "print(\"premvpre: \", get_positions(checkpremvpre[0]))\n",
    "\n",
    "checkpremvict = multipletests(premvict,method='fdr_bh')\n",
    "print(\"premvict: \", get_positions(checkpremvict[0]))\n",
    "\n",
    "checkpremvpost = multipletests(premvpost,method='fdr_bh')\n",
    "print(\"premvpost: \", get_positions(checkpremvpost[0]))\n",
    "\n",
    "checkmidvprem = multipletests(midvprem,method='fdr_bh')\n",
    "print(\"midvprem: \", get_positions(checkmidvprem[0]))\n",
    "\n",
    "print(order1[10])"
   ]
  },
  {
   "cell_type": "code",
   "execution_count": 41,
   "metadata": {},
   "outputs": [
    {
     "name": "stdout",
     "output_type": "stream",
     "text": [
      "[0.58099265 0.89999274 0.4624277  0.29686286 0.58099265 0.33315375\n",
      " 0.58099265 0.20059882 0.1083379  0.90317099 0.00742827 0.1656539 ]\n"
     ]
    }
   ],
   "source": [
    "# correct p vals\n",
    "\n",
    "correctpvalspremvpre = checkpremvpre[1]\n",
    "print(correctpvalspremvpre)"
   ]
  },
  {
   "cell_type": "markdown",
   "metadata": {},
   "source": [
    "Using Bonferroni"
   ]
  },
  {
   "cell_type": "code",
   "execution_count": 29,
   "metadata": {},
   "outputs": [
    {
     "name": "stdout",
     "output_type": "stream",
     "text": [
      "midvint:  []\n",
      "premvpre:  [10]\n",
      "premvict:  []\n",
      "premvpost:  []\n",
      "midvprem:  []\n",
      "MCC\n"
     ]
    }
   ],
   "source": [
    "checkBFmidvint = multipletests(midvint,method='bonferroni')\n",
    "print(\"midvint: \", get_positions(checkBFmidvint[0]))\n",
    "\n",
    "checkBFpremvpre = multipletests(premvpre,method='bonferroni')\n",
    "print(\"premvpre: \", get_positions(checkBFpremvpre[0]))\n",
    "\n",
    "checkBFpremvict = multipletests(premvict,method='bonferroni')\n",
    "print(\"premvict: \", get_positions(checkBFpremvict[0]))\n",
    "\n",
    "checkBFpremvpost = multipletests(premvpost,method='bonferroni')\n",
    "print(\"premvpost: \", get_positions(checkBFpremvpost[0]))\n",
    "\n",
    "checkBFmidvprem = multipletests(midvprem,method='bonferroni')\n",
    "print(\"midvprem: \", get_positions(checkBFmidvprem[0]))\n",
    "\n",
    "print(order1[10])"
   ]
  },
  {
   "cell_type": "markdown",
   "metadata": {},
   "source": [
    "### 2nd Correction (ROIs + Phases)"
   ]
  },
  {
   "cell_type": "markdown",
   "metadata": {},
   "source": [
    "#### COPE8"
   ]
  },
  {
   "cell_type": "markdown",
   "metadata": {},
   "source": [
    "p-values"
   ]
  },
  {
   "cell_type": "code",
   "execution_count": 30,
   "metadata": {},
   "outputs": [],
   "source": [
    "# order \n",
    "\n",
    "order = ['rAmyg midvint', 'lamyg midvint', 'rThal midvint', 'Thal midvint', 'Brainstem midvint', 'Hypothalamus midvint', 'aPHG midvint', 'pPHG midvint', 'ACC midvint', 'OFG midvint', 'MCC midvint', 'PCC midvint',\n",
    "'rAmyg premvpre', 'lAmyg premvpre', 'rThal premvpre', 'lThal premvpre', 'Brainstem premvpre', 'Hypothalamus premvpre', 'aPHG premvpre', 'pPHG premvpre', 'ACC premvpre', 'OFG premvpre', 'MCC premvpre', 'PCCmidvint',\n",
    "'rAmyg premvict', 'lAmyg premvict', 'rThal premvict', 'lThal premvict', 'Brainstem premvict', 'Hypothalamus premvict', 'aPHG premvict', 'pPHG premvict', 'ACC premvict', 'OFG premvict', 'MCC premvict', 'PCCpremvict',\n",
    "'rAmyg premvpost', 'lAmyg premvpost', 'rThal premvpost', 'lThal premvpost', 'Brainstem premvpost', 'Hypothalamus premvpost', 'aPHG premvpost', 'pPHG premvpost', 'ACC premvpost', 'OFG premvpost', 'MCC premvpost', 'PCCpremvpost',\n",
    "'rAmyg midvprem', 'lAmyg midvprem', 'rThal midvprem', 'lThal midvprem', 'Brainstem midvprem', 'Hypothalamus midvprem', 'aPHG midvprem', 'pPHG midvprem', 'ACC midvprem', 'OFG midvprem', 'MCC midvprem', 'PCC midvprem']\n",
    "\n",
    "\n",
    "\n",
    "allrois_allphases = [\n",
    "    0.6384940458172546, 0.23833381609088078, 0.159015065224059, 0.06827011199554625, 0.88889184950705, 0.16841176991967938, 0.8599502772373349, 0.338275369343802, 0.8512228154956041, 0.7055654656888826, 0.27104810736856083, 0.69033222586917,\n",
    "    0.4727736391618439, 0.8249933443824671, 0.2697494928818165, 0.1236928594206259, 0.48416054491019644, 0.16657687694099613, 0.39267071619790683, 0.06686627169851327, 0.018056317227822298, 0.903170992105061, 0.0006190221823934859, 0.041413474068937604,\n",
    "    0.19152846944735974, 0.5156430385591035, 0.3432912879680906, 0.450588241812104, 0.34690459348561753, 0.9038036598368282, 0.20482569086604266, 0.2719978927171628, 0.42063940635987995, 0.4968411776073318, 0.3589341071841795, 0.8939754557016597,\n",
    "    0.5267966917261996, 0.9541829144600243, 0.2467080296645604, 0.3073674042304936, 0.6610181331268431, 0.2416597566542491, 0.4612028464614971, 0.8508972016044141, 0.763289044399608, 0.3547695313632918, 0.8945822866449247, 0.8338796410201361,\n",
    "    0.4797911364276827, 0.25863694066190074, 0.6770700933750428, 0.17289865615728245, 0.582056925044129, 0.92521120117305, 0.2787052400458082, 0.08463856744581925, 0.17416786214969932, 0.8411868369464149, 0.10017672239460194, 0.1746318969000263\n",
    "]"
   ]
  },
  {
   "cell_type": "markdown",
   "metadata": {},
   "source": [
    "Using FDR"
   ]
  },
  {
   "cell_type": "code",
   "execution_count": 31,
   "metadata": {},
   "outputs": [
    {
     "name": "stdout",
     "output_type": "stream",
     "text": [
      "allrois_allphases:  [22]\n",
      "MCC premvpre\n"
     ]
    }
   ],
   "source": [
    "checkallrois_allphases = multipletests(allrois_allphases,method='fdr_bh')\n",
    "\n",
    "print(\"allrois_allphases: \", get_positions(checkallrois_allphases[0]))\n",
    "\n",
    "print(order[22])"
   ]
  },
  {
   "cell_type": "markdown",
   "metadata": {},
   "source": [
    "Using Bonferroni"
   ]
  },
  {
   "cell_type": "code",
   "execution_count": 32,
   "metadata": {},
   "outputs": [
    {
     "name": "stdout",
     "output_type": "stream",
     "text": [
      "allrois_allphases:  [22]\n",
      "OFG premvpre\n"
     ]
    }
   ],
   "source": [
    "checkBFallrois_allphases = multipletests(allrois_allphases,method='bonferroni')\n",
    "\n",
    "print(\"allrois_allphases: \", get_positions(checkBFallrois_allphases[0]))\n",
    "\n",
    "print(order[22])"
   ]
  },
  {
   "cell_type": "markdown",
   "metadata": {},
   "source": [
    "# Visual Network"
   ]
  },
  {
   "cell_type": "markdown",
   "metadata": {},
   "source": [
    "### 1st Correction (ROIs)"
   ]
  },
  {
   "cell_type": "code",
   "execution_count": 33,
   "metadata": {},
   "outputs": [],
   "source": [
    "ordervis1 = ['right amygdala', 'left amygdala', 'right thalamus', 'left thalamus', 'brainstem', 'hypothalamus',\n",
    "             'mcc', 'pcc', 'insula', 'ofg', 'mfg', 'anterior phg', 'lingual gyrus', 'right putamen', 'left putamen', 'cerebellum']\n",
    "\n",
    "midvintVIS = [0.8926411567082353, 0.23833381609088078, 0.8328885037637852, 0.699480957082785, 0.8204817168049096, 0.5661062694153245, 0.6829875150827421, 0.9641767039371248, 0.33517760566474386, 0.08994200425604022, 0.6309001839299315, 0.2766247242252932, 0.027150081587186497, 0.21540950145776502, 0.07887842974286896, 0.3615395357962041]\n",
    "premvpreVIS = [0.9623026777360344, 0.8249933443824671, 0.8166141717513491, 0.9933168822332055, 0.8864109171417801, 0.8983210698071156, 0.18822211133517947, 0.03879168528061942, 0.4730699616480256, 0.916218890275849, 0.5971292564614885, 0.8683178366680941, 0.9889997348854206, 0.667157747197966, 0.6833618111926916, 0.48251855771752183]\n",
    "premvictVIS = [0.20195125107288772, 0.5156430385591035, 0.4353427601408099, 0.8075222435424892, 0.9918070277599308, 0.23445655231335527, 0.6984579738910608, 0.7868393723333538, 0.33891518561869927, 0.8006562062363652, 0.30380786088361894, 0.135507301613539, 0.6310180984784916, 0.7255007201700729, 0.35316219571198026, 0.9597397182669891]\n",
    "premvpostVIS = [0.8148721408895848, 0.9541829144600243, 0.8747732002176035, 0.9896564210269796, 0.9662187374644261, 0.7777777216452298, 0.5976796320945126, 0.38877533382672247, 0.6941848399659973, 0.6371222230685543, 0.7220621697535237, 0.42780925776328194, 0.526036799019687, 0.2911089787529218, 0.20893488294369758, 0.31154370992487584]\n",
    "midvpremVIS = [0.40291655420663797, 0.25863694066190074, 0.6406993536138708, 0.8566856043933095, 0.8703561357689115, 0.34647429781831407, 0.7942428667612225, 0.9408689857120296, 0.6293237560917775, 0.031236742623051303, 0.9538873990411343, 0.7215047453922332, 0.03894074244707283, 0.7479134431804519, 0.9249633418276652, 0.31432614840352213] \n"
   ]
  },
  {
   "cell_type": "markdown",
   "metadata": {},
   "source": [
    "Using FDR"
   ]
  },
  {
   "cell_type": "code",
   "execution_count": 34,
   "metadata": {},
   "outputs": [
    {
     "name": "stdout",
     "output_type": "stream",
     "text": [
      "midvintVIS:  []\n",
      "premvpreVIS:  []\n",
      "premvictVIS:  []\n",
      "premvpostVIS:  []\n",
      "midvpremVIS:  []\n"
     ]
    }
   ],
   "source": [
    "checkmidvintVIS = multipletests(midvintVIS,method='fdr_bh')\n",
    "print(\"midvintVIS: \", get_positions(checkmidvintVIS[0]))\n",
    "\n",
    "checkpremvpreVIS = multipletests(premvpreVIS,method='fdr_bh')\n",
    "print(\"premvpreVIS: \", get_positions(checkpremvpreVIS[0]))\n",
    "\n",
    "checkpremvictVIS = multipletests(premvictVIS,method='fdr_bh')\n",
    "print(\"premvictVIS: \", get_positions(checkpremvictVIS[0]))\n",
    "\n",
    "checkpremvpostVIS = multipletests(premvpostVIS,method='fdr_bh')\n",
    "print(\"premvpostVIS: \", get_positions(checkpremvpostVIS[0]))\n",
    "\n",
    "checkmidvpremVIS = multipletests(midvpremVIS,method='fdr_bh')\n",
    "print(\"midvpremVIS: \", get_positions(checkmidvpremVIS[0]))\n"
   ]
  },
  {
   "cell_type": "markdown",
   "metadata": {},
   "source": [
    "Using Bonferroni"
   ]
  },
  {
   "cell_type": "code",
   "execution_count": 35,
   "metadata": {},
   "outputs": [
    {
     "name": "stdout",
     "output_type": "stream",
     "text": [
      "midvintVIS:  []\n",
      "premvpreVIS:  []\n",
      "premvictVIS:  []\n",
      "premvpostVIS:  []\n",
      "midvpremVIS:  []\n"
     ]
    }
   ],
   "source": [
    "checkBmidvintVIS = multipletests(midvintVIS,method='bonferroni')\n",
    "print(\"midvintVIS: \", get_positions(checkBmidvintVIS[0]))\n",
    "\n",
    "checkBpremvpreVIS = multipletests(premvpreVIS,method='bonferroni')\n",
    "print(\"premvpreVIS: \", get_positions(checkBpremvpreVIS[0]))\n",
    "\n",
    "checkBpremvictVIS = multipletests(premvictVIS,method='bonferroni')\n",
    "print(\"premvictVIS: \", get_positions(checkBpremvictVIS[0]))\n",
    "\n",
    "checkBpremvpostVIS = multipletests(premvpostVIS,method='bonferroni')\n",
    "print(\"premvpostVIS: \", get_positions(checkBpremvpostVIS[0]))\n",
    "\n",
    "checkBmidvpremVIS = multipletests(midvpremVIS,method='bonferroni')\n",
    "print(\"midvpremVIS: \", get_positions(checkBmidvpremVIS[0]))"
   ]
  },
  {
   "cell_type": "markdown",
   "metadata": {},
   "source": [
    "### 2nd Correction (ROIs + Phases)"
   ]
  },
  {
   "cell_type": "code",
   "execution_count": 37,
   "metadata": {},
   "outputs": [],
   "source": [
    "order2VIS = ['rAmyg midvintVIS', 'lamyg midvintVIS', 'rThal midvintVIS', 'Thal midvintVIS', 'Brainstem midvintVIS', 'Hypothalamus midvintVIS', 'MCC midvintVIS', 'PCC midvintVIS', 'Insula midvintVIS', 'OFG midvintVIS', 'MFG midvintVIS', 'aPHG midvintVIS', 'Lingual gyrus midvintVIS', 'rPutamen midvintVIS', 'lPutamen midvintVIS', 'Cerebellum midvintVIS',\n",
    "             'rAmyg premvpreVIS', 'lAmyg premvpreVIS', 'rThal premvpreVIS', 'lThal premvpreVIS', 'Brainstem premvpreVIS', 'Hypothalamus premvpreVIS', 'MCC premvpreVIS', 'PCC premvpreVIS', 'Insula premvpreVIS', 'OFG premvpreVIS', 'MFG premvpreVIS', 'aPHG premvpreVIS', 'Lingual gyrus premvpreVIS', 'rPutamen premvpreVIS', 'lPutamen premvpreVIS', 'Cerebellum premvpreVIS',\n",
    "             'rAmyg premvictVIS', 'lAmyg premvictVIS', 'rThal premvictVIS', 'lThal premvictVIS', 'Brainstem premvictVIS', 'Hypothalamus premvictVIS', 'MCC premvictVIS', 'PCC premvictVIS', 'Insula premvictVIS', 'OFG premvictVIS', 'MFG premvictVIS', 'aPHG premvictVIS', 'Lingual gyrus premvictVIS', 'rPutamen premvictVIS', 'lPutamen premvictVIS', 'Cerebellum premvictVIS',\n",
    "            'rAmyg premvpostVIS', 'lAmyg premvpostVIS', 'rThal premvpostVIS', 'lThal premvpostVIS', 'Brainstem premvpostVIS', 'Hypothalamus premvpostVIS', 'MCC premvpostVIS', 'PCC premvpostVIS', 'Insula premvpostVIS', 'OFG premvpostVIS', 'MFG premvpostVIS', 'aPHG premvpostVIS', 'Lingual gyrus premvpostVIS', 'rPutamen premvpostVIS', 'lPutamen premvpostVIS', 'Cerebellum premvpostVIS',\n",
    "            'rAmyg midvpremVIS', 'lAmyg midvpremVIS', 'rThal midvpremVIS', 'lThal midvpremVIS', 'Brainstem midvpremVIS', 'Hypothalamus midvpremVIS', 'MCC midvpremVIS', 'PCC midvpremVIS', 'Insula midvpremVIS', 'OFG midvpremVIS', 'MFG midvpremVIS', 'aPHG midvpremVIS', 'Lingual gyrus midvpremVIS', 'rPutamen midvpremVIS', 'lPutamen midvpremVIS', 'Cerebellum midvpremVIS']\n",
    "\n",
    "\n",
    "allrois_allphasesVIS = [\n",
    "    0.8926411567082353, 0.23833381609088078, 0.8328885037637852, 0.699480957082785, 0.8204817168049096, 0.5661062694153245, 0.6829875150827421, 0.9641767039371248, 0.33517760566474386, 0.08994200425604022, 0.6309001839299315, 0.2766247242252932, 0.027150081587186497, 0.21540950145776502, 0.07887842974286896, 0.3615395357962041,\n",
    "    0.9623026777360344, 0.8249933443824671, 0.8166141717513491, 0.9933168822332055, 0.8864109171417801, 0.8983210698071156, 0.18822211133517947, 0.03879168528061942, 0.4730699616480256, 0.916218890275849, 0.5971292564614885, 0.8683178366680941, 0.9889997348854206, 0.667157747197966, 0.6833618111926916, 0.48251855771752183,\n",
    "    0.20195125107288772, 0.5156430385591035, 0.4353427601408099, 0.8075222435424892, 0.9918070277599308, 0.23445655231335527, 0.6984579738910608, 0.7868393723333538, 0.33891518561869927, 0.8006562062363652, 0.30380786088361894, 0.135507301613539, 0.6310180984784916, 0.7255007201700729, 0.35316219571198026, 0.9597397182669891,\n",
    "    0.8148721408895848, 0.9541829144600243, 0.8747732002176035, 0.9896564210269796, 0.9662187374644261, 0.7777777216452298, 0.5976796320945126, 0.38877533382672247, 0.6941848399659973, 0.6371222230685543, 0.7220621697535237, 0.42780925776328194, 0.526036799019687, 0.2911089787529218, 0.20893488294369758, 0.31154370992487584,\n",
    "    0.40291655420663797, 0.25863694066190074, 0.6406993536138708, 0.8566856043933095, 0.8703561357689115, 0.34647429781831407, 0.7942428667612225, 0.9408689857120296, 0.6293237560917775, 0.031236742623051303, 0.9538873990411343, 0.7215047453922332, 0.03894074244707283, 0.7479134431804519, 0.9249633418276652, 0.31432614840352213\n",
    "]"
   ]
  },
  {
   "cell_type": "markdown",
   "metadata": {},
   "source": [
    "Using FDR"
   ]
  },
  {
   "cell_type": "code",
   "execution_count": 39,
   "metadata": {},
   "outputs": [
    {
     "name": "stdout",
     "output_type": "stream",
     "text": [
      "allrois_allphasesVIS:  []\n"
     ]
    }
   ],
   "source": [
    "checkallrois_allphasesVIS = multipletests(allrois_allphasesVIS,method='fdr_bh') \n",
    "print(\"allrois_allphasesVIS: \", get_positions(checkallrois_allphasesVIS[0]))"
   ]
  },
  {
   "cell_type": "markdown",
   "metadata": {},
   "source": [
    "Using Bonferroni"
   ]
  },
  {
   "cell_type": "code",
   "execution_count": 40,
   "metadata": {},
   "outputs": [
    {
     "name": "stdout",
     "output_type": "stream",
     "text": [
      "allrois_allphasesVIS:  []\n"
     ]
    }
   ],
   "source": [
    "checkBallrois_allphasesVIS = multipletests(allrois_allphasesVIS,method='bonferroni')\n",
    "print(\"allrois_allphasesVIS: \", get_positions(checkBallrois_allphasesVIS[0]))"
   ]
  }
 ],
 "metadata": {
  "kernelspec": {
   "display_name": "Python 3",
   "language": "python",
   "name": "python3"
  },
  "language_info": {
   "codemirror_mode": {
    "name": "ipython",
    "version": 3
   },
   "file_extension": ".py",
   "mimetype": "text/x-python",
   "name": "python",
   "nbconvert_exporter": "python",
   "pygments_lexer": "ipython3",
   "version": "3.11.2"
  }
 },
 "nbformat": 4,
 "nbformat_minor": 2
}
