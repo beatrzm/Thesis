{
 "cells": [
  {
   "cell_type": "code",
   "execution_count": 33,
   "metadata": {},
   "outputs": [],
   "source": [
    "from statsmodels.stats.multitest import multipletests"
   ]
  },
  {
   "cell_type": "markdown",
   "metadata": {},
   "source": [
    "# Emotional Network"
   ]
  },
  {
   "cell_type": "markdown",
   "metadata": {},
   "source": [
    "### 1st Correction (nb of comparisons are the nb of ROIs)"
   ]
  },
  {
   "cell_type": "markdown",
   "metadata": {},
   "source": [
    "COPE8"
   ]
  },
  {
   "cell_type": "markdown",
   "metadata": {},
   "source": [
    "p-values"
   ]
  },
  {
   "cell_type": "code",
   "execution_count": 34,
   "metadata": {},
   "outputs": [],
   "source": [
    "order1 = ['right amygdala', 'left amygdala', 'right thalamus', 'left thalamus', 'brainstem', 'hypothalamus', \n",
    "         'anterior parahippocampal gyrus', 'posterior parahippocampal gyrus', 'ACC', 'occipital fusiform gyrus', 'MCC','PCC']\n",
    "\n",
    "\n",
    "midvint = [0.6384940458172546, 0.23833381609088078, 0.159015065224059, 0.06827011199554625, 0.88889184950705, 0.16841176991967938, 0.8599502772373349, 0.338275369343802, 0.8512228154956041, 0.7055654656888826, 0.27104810736856083, 0.69033222586917]\n",
    "premvpre = [0.4727736391618439, 0.8249933443824671, 0.2697494928818165, 0.1236928594206259, 0.48416054491019644, 0.16657687694099613, 0.39267071619790683, 0.06686627169851327, 0.018056317227822298, 0.903170992105061, 0.0006190221823934859, 0.041413474068937604]\n",
    "premvict = [0.19152846944735974, 0.5156430385591035, 0.3432912879680906, 0.450588241812104, 0.34690459348561753, 0.9038036598368282, 0.20482569086604266, 0.2719978927171628, 0.42063940635987995, 0.4968411776073318, 0.3589341071841795, 0.8939754557016597]\n",
    "premvpost = [0.5267966917261996, 0.9541829144600243, 0.2467080296645604, 0.3073674042304936, 0.6610181331268431, 0.2416597566542491, 0.4612028464614971, 0.8508972016044141, 0.763289044399608, 0.3547695313632918, 0.8945822866449247, 0.8338796410201361]\n",
    "midvprem = [0.4797911364276827, 0.25863694066190074, 0.6770700933750428, 0.17289865615728245, 0.582056925044129, 0.92521120117305, 0.2787052400458082, 0.08463856744581925, 0.17416786214969932, 0.8411868369464149, 0.10017672239460194, 0.1746318969000263]"
   ]
  },
  {
   "cell_type": "markdown",
   "metadata": {},
   "source": [
    "Using non-negative FDR"
   ]
  },
  {
   "cell_type": "code",
   "execution_count": 35,
   "metadata": {},
   "outputs": [],
   "source": [
    "# function that receives a list of bols and returns the positions of the True values\n",
    "\n",
    "def get_positions(bool_list):\n",
    "    positions = []\n",
    "    for i in range(len(bool_list)):\n",
    "        if bool_list[i]:\n",
    "            positions.append(i)\n",
    "    return positions"
   ]
  },
  {
   "cell_type": "code",
   "execution_count": 36,
   "metadata": {},
   "outputs": [
    {
     "name": "stdout",
     "output_type": "stream",
     "text": [
      "midvint:  []\n",
      "premvpre:  [10]\n",
      "premvict:  []\n",
      "premvpost:  []\n",
      "midvprem:  []\n",
      "Significant corrected p-value of the premvpre comparison:  MCC\n"
     ]
    }
   ],
   "source": [
    "checkmidvint = multipletests(midvint,method='fdr_bh')\n",
    "print(\"midvint: \", get_positions(checkmidvint[0]))\n",
    "\n",
    "checkpremvpre = multipletests(premvpre,method='fdr_bh')\n",
    "print(\"premvpre: \", get_positions(checkpremvpre[0]))\n",
    "\n",
    "checkpremvict = multipletests(premvict,method='fdr_bh')\n",
    "print(\"premvict: \", get_positions(checkpremvict[0]))\n",
    "\n",
    "checkpremvpost = multipletests(premvpost,method='fdr_bh')\n",
    "print(\"premvpost: \", get_positions(checkpremvpost[0]))\n",
    "\n",
    "checkmidvprem = multipletests(midvprem,method='fdr_bh')\n",
    "print(\"midvprem: \", get_positions(checkmidvprem[0]))\n",
    "\n",
    "print('Significant corrected p-value of the premvpre comparison: ',order1[10])\n"
   ]
  },
  {
   "cell_type": "code",
   "execution_count": 37,
   "metadata": {},
   "outputs": [
    {
     "name": "stdout",
     "output_type": "stream",
     "text": [
      "[0.58099265 0.89999274 0.4624277  0.29686286 0.58099265 0.33315375\n",
      " 0.58099265 0.20059882 0.1083379  0.90317099 0.00742827 0.1656539 ]\n"
     ]
    }
   ],
   "source": [
    "# correct p vals\n",
    "\n",
    "correctpvalspremvpre = checkpremvpre[1]\n",
    "print(correctpvalspremvpre)"
   ]
  },
  {
   "cell_type": "markdown",
   "metadata": {},
   "source": [
    "Using Bonferroni"
   ]
  },
  {
   "cell_type": "code",
   "execution_count": 38,
   "metadata": {},
   "outputs": [
    {
     "name": "stdout",
     "output_type": "stream",
     "text": [
      "midvint:  []\n",
      "premvpre:  [10]\n",
      "premvict:  []\n",
      "premvpost:  []\n",
      "midvprem:  []\n",
      "MCC\n"
     ]
    }
   ],
   "source": [
    "checkBFmidvint = multipletests(midvint,method='bonferroni')\n",
    "print(\"midvint: \", get_positions(checkBFmidvint[0]))\n",
    "\n",
    "checkBFpremvpre = multipletests(premvpre,method='bonferroni')\n",
    "print(\"premvpre: \", get_positions(checkBFpremvpre[0]))\n",
    "\n",
    "checkBFpremvict = multipletests(premvict,method='bonferroni')\n",
    "print(\"premvict: \", get_positions(checkBFpremvict[0]))\n",
    "\n",
    "checkBFpremvpost = multipletests(premvpost,method='bonferroni')\n",
    "print(\"premvpost: \", get_positions(checkBFpremvpost[0]))\n",
    "\n",
    "checkBFmidvprem = multipletests(midvprem,method='bonferroni')\n",
    "print(\"midvprem: \", get_positions(checkBFmidvprem[0]))\n",
    "\n",
    "print(order1[10])"
   ]
  },
  {
   "cell_type": "markdown",
   "metadata": {},
   "source": [
    "### Alternative 1st Correction (nb of comparisons are the nb of phase comparisons)"
   ]
  },
  {
   "cell_type": "code",
   "execution_count": 39,
   "metadata": {},
   "outputs": [],
   "source": [
    "order_nbphases = ['midvint','premvpre', 'previct', 'premvpost', 'midvprem']\n",
    "\n",
    "ramyg = [midvint[0],premvpre[0],premvict[0],premvpost[0],midvprem[0]]\n",
    "lamyg = [midvint[1],premvpre[1],premvict[1],premvpost[1],midvprem[1]]\n",
    "rthalamus = [midvint[2],premvpre[2],premvict[2],premvpost[2],midvprem[2]]\n",
    "lthalamus = [midvint[3],premvpre[3],premvict[3],premvpost[3],midvprem[3]]\n",
    "brainstem = [midvint[4],premvpre[4],premvict[4],premvpost[4],midvprem[4]]\n",
    "hypothalamus = [midvint[5],premvpre[5],premvict[5],premvpost[5],midvprem[5]]\n",
    "aparhip = [midvint[6],premvpre[6],premvict[6],premvpost[6],midvprem[6]]\n",
    "pparhip = [midvint[7],premvpre[7],premvict[7],premvpost[7],midvprem[7]]\n",
    "acc = [midvint[8],premvpre[8],premvict[8],premvpost[8],midvprem[8]]\n",
    "ofg = [midvint[9],premvpre[9],premvict[9],premvpost[9],midvprem[9]]\n",
    "mcc = [midvint[10],premvpre[10],premvict[10],premvpost[10],midvprem[10]]\n",
    "pcc = [midvint[11],premvpre[11],premvict[11],premvpost[11],midvprem[11]]\n"
   ]
  },
  {
   "cell_type": "code",
   "execution_count": 40,
   "metadata": {},
   "outputs": [
    {
     "name": "stdout",
     "output_type": "stream",
     "text": [
      "With FDR:\n",
      "\n",
      "ramyg:  []\n",
      "lamyg:  []\n",
      "rthalamus:  []\n",
      "lthalamus:  []\n",
      "brainstem:  []\n",
      "hypothalamus:  []\n",
      "aparhip:  []\n",
      "pparhip:  []\n",
      "acc:  []\n",
      "ofg:  []\n",
      "mcc:  [1]\n",
      "pcc:  []\n",
      "With Bonferroni:\n",
      "\n",
      "ramyg:  []\n",
      "lamyg:  []\n",
      "rthalamus:  []\n",
      "lthalamus:  []\n",
      "brainstem:  []\n",
      "hypothalamus:  []\n",
      "aparhip:  []\n",
      "pparhip:  []\n",
      "acc:  []\n",
      "ofg:  []\n",
      "mcc:  [1]\n",
      "pcc:  []\n",
      "Significant Corrected p-value belonging to be MCC ROI is:  premvpre\n"
     ]
    }
   ],
   "source": [
    "print(\"With FDR:\\n\")\n",
    "\n",
    "checkrmayg = multipletests(ramyg,method='fdr_bh')\n",
    "print(\"ramyg: \", get_positions(checkrmayg[0]))\n",
    "\n",
    "checklamyg = multipletests(lamyg,method='fdr_bh')\n",
    "print(\"lamyg: \", get_positions(checklamyg[0]))\n",
    "\n",
    "checkrthalamus = multipletests(rthalamus,method='fdr_bh')\n",
    "print(\"rthalamus: \", get_positions(checkrthalamus[0]))\n",
    "\n",
    "checklthalamus = multipletests(lthalamus,method='fdr_bh')\n",
    "print(\"lthalamus: \", get_positions(checklthalamus[0]))\n",
    "\n",
    "checkbrainstem = multipletests(brainstem,method='fdr_bh')\n",
    "print(\"brainstem: \", get_positions(checkbrainstem[0]))\n",
    "\n",
    "checkhypothalamus = multipletests(hypothalamus,method='fdr_bh')\n",
    "print(\"hypothalamus: \", get_positions(checkhypothalamus[0]))\n",
    "\n",
    "checkaparhip = multipletests(aparhip,method='fdr_bh')\n",
    "print(\"aparhip: \", get_positions(checkaparhip[0]))\n",
    "\n",
    "checkpparhip = multipletests(pparhip,method='fdr_bh')\n",
    "print(\"pparhip: \", get_positions(checkpparhip[0]))\n",
    "\n",
    "checkacc = multipletests(acc,method='fdr_bh')\n",
    "print(\"acc: \", get_positions(checkacc[0]))\n",
    "\n",
    "checkofg = multipletests(ofg,method='fdr_bh')\n",
    "print(\"ofg: \", get_positions(checkofg[0]))\n",
    "\n",
    "checkmcc = multipletests(mcc,method='fdr_bh')\n",
    "print(\"mcc: \", get_positions(checkmcc[0]))\n",
    "\n",
    "checkpcc = multipletests(pcc,method='fdr_bh')\n",
    "print(\"pcc: \", get_positions(checkpcc[0]))\n",
    "\n",
    "\n",
    "print(\"With Bonferroni:\\n\")\n",
    "\n",
    "checkBFrmayg = multipletests(ramyg,method='bonferroni')\n",
    "print(\"ramyg: \", get_positions(checkBFrmayg[0]))\n",
    "\n",
    "checkBFlamyg = multipletests(lamyg,method='bonferroni')\n",
    "print(\"lamyg: \", get_positions(checkBFlamyg[0]))\n",
    "\n",
    "checkBFrthalamus = multipletests(rthalamus,method='bonferroni')\n",
    "print(\"rthalamus: \", get_positions(checkBFrthalamus[0]))\n",
    "\n",
    "checkBFlthalamus = multipletests(lthalamus,method='bonferroni')\n",
    "print(\"lthalamus: \", get_positions(checkBFlthalamus[0]))\n",
    "\n",
    "checkBFbrainstem = multipletests(brainstem,method='bonferroni')\n",
    "print(\"brainstem: \", get_positions(checkBFbrainstem[0]))\n",
    "\n",
    "checkBFhypothalamus = multipletests(hypothalamus,method='bonferroni')\n",
    "print(\"hypothalamus: \", get_positions(checkBFhypothalamus[0]))\n",
    "\n",
    "checkBFaparhip = multipletests(aparhip,method='bonferroni')\n",
    "print(\"aparhip: \", get_positions(checkBFaparhip[0]))\n",
    "\n",
    "checkBFpparhip = multipletests(pparhip,method='bonferroni')\n",
    "print(\"pparhip: \", get_positions(checkBFpparhip[0]))\n",
    "\n",
    "checkBFacc = multipletests(acc,method='bonferroni')\n",
    "print(\"acc: \", get_positions(checkBFacc[0]))\n",
    "\n",
    "checkBFofg = multipletests(ofg,method='bonferroni')\n",
    "print(\"ofg: \", get_positions(checkBFofg[0]))\n",
    "\n",
    "checkBFmcc = multipletests(mcc,method='bonferroni')\n",
    "print(\"mcc: \", get_positions(checkBFmcc[0]))\n",
    "\n",
    "checkBFpcc = multipletests(pcc,method='bonferroni')\n",
    "print(\"pcc: \", get_positions(checkBFpcc[0]))\n",
    "\n",
    "print('Significant Corrected p-value belonging to be MCC ROI is: ',order_nbphases[1])\n"
   ]
  },
  {
   "cell_type": "markdown",
   "metadata": {},
   "source": [
    "### 2nd Correction (ROIs + Phases)"
   ]
  },
  {
   "cell_type": "markdown",
   "metadata": {},
   "source": [
    "COPE8"
   ]
  },
  {
   "cell_type": "markdown",
   "metadata": {},
   "source": [
    "p-values"
   ]
  },
  {
   "cell_type": "code",
   "execution_count": 41,
   "metadata": {},
   "outputs": [],
   "source": [
    "# order \n",
    "\n",
    "order = ['rAmyg midvint', 'lamyg midvint', 'rThal midvint', 'Thal midvint', 'Brainstem midvint', 'Hypothalamus midvint', 'aPHG midvint', 'pPHG midvint', 'ACC midvint', 'OFG midvint', 'MCC midvint', 'PCC midvint',\n",
    "'rAmyg premvpre', 'lAmyg premvpre', 'rThal premvpre', 'lThal premvpre', 'Brainstem premvpre', 'Hypothalamus premvpre', 'aPHG premvpre', 'pPHG premvpre', 'ACC premvpre', 'OFG premvpre', 'MCC premvpre', 'PCCmidvint',\n",
    "'rAmyg premvict', 'lAmyg premvict', 'rThal premvict', 'lThal premvict', 'Brainstem premvict', 'Hypothalamus premvict', 'aPHG premvict', 'pPHG premvict', 'ACC premvict', 'OFG premvict', 'MCC premvict', 'PCCpremvict',\n",
    "'rAmyg premvpost', 'lAmyg premvpost', 'rThal premvpost', 'lThal premvpost', 'Brainstem premvpost', 'Hypothalamus premvpost', 'aPHG premvpost', 'pPHG premvpost', 'ACC premvpost', 'OFG premvpost', 'MCC premvpost', 'PCCpremvpost',\n",
    "'rAmyg midvprem', 'lAmyg midvprem', 'rThal midvprem', 'lThal midvprem', 'Brainstem midvprem', 'Hypothalamus midvprem', 'aPHG midvprem', 'pPHG midvprem', 'ACC midvprem', 'OFG midvprem', 'MCC midvprem', 'PCC midvprem']\n",
    "\n",
    "\n",
    "\n",
    "allrois_allphases = [\n",
    "    0.6384940458172546, 0.23833381609088078, 0.159015065224059, 0.06827011199554625, 0.88889184950705, 0.16841176991967938, 0.8599502772373349, 0.338275369343802, 0.8512228154956041, 0.7055654656888826, 0.27104810736856083, 0.69033222586917,\n",
    "    0.4727736391618439, 0.8249933443824671, 0.2697494928818165, 0.1236928594206259, 0.48416054491019644, 0.16657687694099613, 0.39267071619790683, 0.06686627169851327, 0.018056317227822298, 0.903170992105061, 0.0006190221823934859, 0.041413474068937604,\n",
    "    0.19152846944735974, 0.5156430385591035, 0.3432912879680906, 0.450588241812104, 0.34690459348561753, 0.9038036598368282, 0.20482569086604266, 0.2719978927171628, 0.42063940635987995, 0.4968411776073318, 0.3589341071841795, 0.8939754557016597,\n",
    "    0.5267966917261996, 0.9541829144600243, 0.2467080296645604, 0.3073674042304936, 0.6610181331268431, 0.2416597566542491, 0.4612028464614971, 0.8508972016044141, 0.763289044399608, 0.3547695313632918, 0.8945822866449247, 0.8338796410201361,\n",
    "    0.4797911364276827, 0.25863694066190074, 0.6770700933750428, 0.17289865615728245, 0.582056925044129, 0.92521120117305, 0.2787052400458082, 0.08463856744581925, 0.17416786214969932, 0.8411868369464149, 0.10017672239460194, 0.1746318969000263\n",
    "]"
   ]
  },
  {
   "cell_type": "markdown",
   "metadata": {},
   "source": [
    "Using FDR"
   ]
  },
  {
   "cell_type": "code",
   "execution_count": 42,
   "metadata": {},
   "outputs": [
    {
     "name": "stdout",
     "output_type": "stream",
     "text": [
      "allrois_allphases:  [22]\n",
      "MCC premvpre\n"
     ]
    }
   ],
   "source": [
    "checkallrois_allphases = multipletests(allrois_allphases,method='fdr_bh')\n",
    "\n",
    "print(\"allrois_allphases: \", get_positions(checkallrois_allphases[0]))\n",
    "\n",
    "print(order[22])"
   ]
  },
  {
   "cell_type": "markdown",
   "metadata": {},
   "source": [
    "Using Bonferroni"
   ]
  },
  {
   "cell_type": "code",
   "execution_count": 43,
   "metadata": {},
   "outputs": [
    {
     "name": "stdout",
     "output_type": "stream",
     "text": [
      "allrois_allphases:  [22]\n",
      "MCC premvpre\n"
     ]
    }
   ],
   "source": [
    "checkBFallrois_allphases = multipletests(allrois_allphases,method='bonferroni')\n",
    "\n",
    "print(\"allrois_allphases: \", get_positions(checkBFallrois_allphases[0]))\n",
    "\n",
    "print(order[22])"
   ]
  },
  {
   "cell_type": "markdown",
   "metadata": {},
   "source": [
    "# Visual Network"
   ]
  },
  {
   "cell_type": "markdown",
   "metadata": {},
   "source": [
    "### 1st Correction (ROIs)"
   ]
  },
  {
   "cell_type": "code",
   "execution_count": 44,
   "metadata": {},
   "outputs": [],
   "source": [
    "ordervis1 = ['right amygdala', 'left amygdala', 'right thalamus', 'left thalamus', 'brainstem', 'hypothalamus',\n",
    "             'mcc', 'pcc', 'insula', 'ofg', 'mfg', 'anterior phg', 'lingual gyrus', 'right putamen', 'left putamen', 'cerebellum']\n",
    "\n",
    "midvintVIS = [0.8926411567082353, 0.23833381609088078, 0.8328885037637852, 0.699480957082785, 0.8204817168049096, 0.5661062694153245, 0.6829875150827421, 0.9641767039371248, 0.33517760566474386, 0.08994200425604022, 0.6309001839299315, 0.2766247242252932, 0.027150081587186497, 0.21540950145776502, 0.07887842974286896, 0.3615395357962041]\n",
    "premvpreVIS = [0.9623026777360344, 0.8249933443824671, 0.8166141717513491, 0.9933168822332055, 0.8864109171417801, 0.8983210698071156, 0.18822211133517947, 0.03879168528061942, 0.4730699616480256, 0.916218890275849, 0.5971292564614885, 0.8683178366680941, 0.9889997348854206, 0.667157747197966, 0.6833618111926916, 0.48251855771752183]\n",
    "premvictVIS = [0.20195125107288772, 0.5156430385591035, 0.4353427601408099, 0.8075222435424892, 0.9918070277599308, 0.23445655231335527, 0.6984579738910608, 0.7868393723333538, 0.33891518561869927, 0.8006562062363652, 0.30380786088361894, 0.135507301613539, 0.6310180984784916, 0.7255007201700729, 0.35316219571198026, 0.9597397182669891]\n",
    "premvpostVIS = [0.8148721408895848, 0.9541829144600243, 0.8747732002176035, 0.9896564210269796, 0.9662187374644261, 0.7777777216452298, 0.5976796320945126, 0.38877533382672247, 0.6941848399659973, 0.6371222230685543, 0.7220621697535237, 0.42780925776328194, 0.526036799019687, 0.2911089787529218, 0.20893488294369758, 0.31154370992487584]\n",
    "midvpremVIS = [0.40291655420663797, 0.25863694066190074, 0.6406993536138708, 0.8566856043933095, 0.8703561357689115, 0.34647429781831407, 0.7942428667612225, 0.9408689857120296, 0.6293237560917775, 0.031236742623051303, 0.9538873990411343, 0.7215047453922332, 0.03894074244707283, 0.7479134431804519, 0.9249633418276652, 0.31432614840352213] \n"
   ]
  },
  {
   "cell_type": "markdown",
   "metadata": {},
   "source": [
    "Using FDR"
   ]
  },
  {
   "cell_type": "code",
   "execution_count": 45,
   "metadata": {},
   "outputs": [
    {
     "name": "stdout",
     "output_type": "stream",
     "text": [
      "midvintVIS:  []\n",
      "premvpreVIS:  []\n",
      "premvictVIS:  []\n",
      "premvpostVIS:  []\n",
      "midvpremVIS:  []\n"
     ]
    }
   ],
   "source": [
    "checkmidvintVIS = multipletests(midvintVIS,method='fdr_bh')\n",
    "print(\"midvintVIS: \", get_positions(checkmidvintVIS[0]))\n",
    "\n",
    "checkpremvpreVIS = multipletests(premvpreVIS,method='fdr_bh')\n",
    "print(\"premvpreVIS: \", get_positions(checkpremvpreVIS[0]))\n",
    "\n",
    "checkpremvictVIS = multipletests(premvictVIS,method='fdr_bh')\n",
    "print(\"premvictVIS: \", get_positions(checkpremvictVIS[0]))\n",
    "\n",
    "checkpremvpostVIS = multipletests(premvpostVIS,method='fdr_bh')\n",
    "print(\"premvpostVIS: \", get_positions(checkpremvpostVIS[0]))\n",
    "\n",
    "checkmidvpremVIS = multipletests(midvpremVIS,method='fdr_bh')\n",
    "print(\"midvpremVIS: \", get_positions(checkmidvpremVIS[0]))\n"
   ]
  },
  {
   "cell_type": "markdown",
   "metadata": {},
   "source": [
    "Using Bonferroni"
   ]
  },
  {
   "cell_type": "code",
   "execution_count": 46,
   "metadata": {},
   "outputs": [
    {
     "name": "stdout",
     "output_type": "stream",
     "text": [
      "midvintVIS:  []\n",
      "premvpreVIS:  []\n",
      "premvictVIS:  []\n",
      "premvpostVIS:  []\n",
      "midvpremVIS:  []\n"
     ]
    }
   ],
   "source": [
    "checkBmidvintVIS = multipletests(midvintVIS,method='bonferroni')\n",
    "print(\"midvintVIS: \", get_positions(checkBmidvintVIS[0]))\n",
    "\n",
    "checkBpremvpreVIS = multipletests(premvpreVIS,method='bonferroni')\n",
    "print(\"premvpreVIS: \", get_positions(checkBpremvpreVIS[0]))\n",
    "\n",
    "checkBpremvictVIS = multipletests(premvictVIS,method='bonferroni')\n",
    "print(\"premvictVIS: \", get_positions(checkBpremvictVIS[0]))\n",
    "\n",
    "checkBpremvpostVIS = multipletests(premvpostVIS,method='bonferroni')\n",
    "print(\"premvpostVIS: \", get_positions(checkBpremvpostVIS[0]))\n",
    "\n",
    "checkBmidvpremVIS = multipletests(midvpremVIS,method='bonferroni')\n",
    "print(\"midvpremVIS: \", get_positions(checkBmidvpremVIS[0]))"
   ]
  },
  {
   "cell_type": "markdown",
   "metadata": {},
   "source": [
    "### Alternative 1st Correction (nb of comparisons are the nb of phase comparisons)"
   ]
  },
  {
   "cell_type": "code",
   "execution_count": 47,
   "metadata": {},
   "outputs": [],
   "source": [
    "order2_nbphases = ['midvintVIS','premvpreVIS', 'previctVIS', 'premvpostVIS', 'midvpremVIS']\n",
    "\n",
    "ramygVIS = [midvintVIS[0],premvpreVIS[0],premvictVIS[0],premvpostVIS[0],midvpremVIS[0]]\n",
    "lamygVIS = [midvintVIS[1],premvpreVIS[1],premvictVIS[1],premvpostVIS[1],midvpremVIS[1]]\n",
    "rthalamusVIS = [midvintVIS[2],premvpreVIS[2],premvictVIS[2],premvpostVIS[2],midvpremVIS[2]]\n",
    "lthalamusVIS = [midvintVIS[3],premvpreVIS[3],premvictVIS[3],premvpostVIS[3],midvpremVIS[3]]\n",
    "brainstemVIS = [midvintVIS[4],premvpreVIS[4],premvictVIS[4],premvpostVIS[4],midvpremVIS[4]]\n",
    "hypothalamusVIS = [midvintVIS[5],premvpreVIS[5],premvictVIS[5],premvpostVIS[5],midvpremVIS[5]]\n",
    "mccVIS = [midvintVIS[6],premvpreVIS[6],premvictVIS[6],premvpostVIS[6],midvpremVIS[6]]\n",
    "pccVIS = [midvintVIS[7],premvpreVIS[7],premvictVIS[7],premvpostVIS[7],midvpremVIS[7]]\n",
    "insulaVIS = [midvintVIS[8],premvpreVIS[8],premvictVIS[8],premvpostVIS[8],midvpremVIS[8]]\n",
    "ofgVIS = [midvintVIS[9],premvpreVIS[9],premvictVIS[9],premvpostVIS[9],midvpremVIS[9]]\n",
    "mfgVIS = [midvintVIS[10],premvpreVIS[10],premvictVIS[10],premvpostVIS[10],midvpremVIS[10]]\n",
    "aparhipVIS = [midvintVIS[11],premvpreVIS[11],premvictVIS[11],premvpostVIS[11],midvpremVIS[11]]\n",
    "lingualVIS = [midvintVIS[12],premvpreVIS[12],premvictVIS[12],premvpostVIS[12],midvpremVIS[12]]\n",
    "rputamenVIS = [midvintVIS[13],premvpreVIS[13],premvictVIS[13],premvpostVIS[13],midvpremVIS[13]]\n",
    "lputamenVIS = [midvintVIS[14],premvpreVIS[14],premvictVIS[14],premvpostVIS[14],midvpremVIS[14]]\n",
    "cerebellumVIS = [midvintVIS[15],premvpreVIS[15],premvictVIS[15],premvpostVIS[15],midvpremVIS[15]]\n"
   ]
  },
  {
   "cell_type": "code",
   "execution_count": 48,
   "metadata": {},
   "outputs": [
    {
     "name": "stdout",
     "output_type": "stream",
     "text": [
      "With FDR:\n",
      "\n",
      "ramygVIS:  []\n",
      "lamygVIS:  []\n",
      "rthalamusVIS:  []\n",
      "lthalamusVIS:  []\n",
      "brainstemVIS:  []\n",
      "hypothalamusVIS:  []\n",
      "mccVIS:  []\n",
      "pccVIS:  []\n",
      "insulaVIS:  []\n",
      "ofgVIS:  []\n",
      "mfgVIS:  []\n",
      "aparhipVIS:  []\n",
      "lingualVIS:  []\n",
      "rputamenVIS:  []\n",
      "lputamenVIS:  []\n",
      "cerebellumVIS:  []\n",
      "\n",
      "With Bonferroni:\n",
      "\n",
      "ramygVIS:  []\n",
      "lamygVIS:  []\n",
      "rthalamusVIS:  []\n",
      "lthalamusVIS:  []\n",
      "brainstemVIS:  []\n",
      "hypothalamusVIS:  []\n",
      "mccVIS:  []\n",
      "pccVIS:  []\n",
      "insulaVIS:  []\n",
      "ofgVIS:  []\n",
      "mfgVIS:  []\n",
      "aparhipVIS:  []\n",
      "lingualVIS:  []\n",
      "rputamenVIS:  []\n",
      "lputamenVIS:  []\n",
      "cerebellumVIS:  []\n"
     ]
    }
   ],
   "source": [
    "# with fdr\n",
    "\n",
    "print('With FDR:\\n')\n",
    "\n",
    "checkramygVIS = multipletests(ramygVIS,method='fdr_bh')\n",
    "print(\"ramygVIS: \", get_positions(checkramygVIS[0]))\n",
    "\n",
    "checklamygVIS = multipletests(lamygVIS,method='fdr_bh')\n",
    "print(\"lamygVIS: \", get_positions(checklamygVIS[0]))\n",
    "\n",
    "checkrthalamusVIS = multipletests(rthalamusVIS,method='fdr_bh')\n",
    "print(\"rthalamusVIS: \", get_positions(checkrthalamusVIS[0]))\n",
    "\n",
    "checklthalamusVIS = multipletests(lthalamusVIS,method='fdr_bh')\n",
    "print(\"lthalamusVIS: \", get_positions(checklthalamusVIS[0]))\n",
    "\n",
    "checkbrainstemVIS = multipletests(brainstemVIS,method='fdr_bh')\n",
    "print(\"brainstemVIS: \", get_positions(checkbrainstemVIS[0]))\n",
    "\n",
    "checkhypothalamusVIS = multipletests(hypothalamusVIS,method='fdr_bh')\n",
    "print(\"hypothalamusVIS: \", get_positions(checkhypothalamusVIS[0]))\n",
    "\n",
    "checkmccVIS = multipletests(mccVIS,method='fdr_bh')\n",
    "print(\"mccVIS: \", get_positions(checkmccVIS[0]))\n",
    "\n",
    "checkpccVIS = multipletests(pccVIS,method='fdr_bh')\n",
    "print(\"pccVIS: \", get_positions(checkpccVIS[0]))\n",
    "\n",
    "checkinsulaVIS = multipletests(insulaVIS,method='fdr_bh')\n",
    "print(\"insulaVIS: \", get_positions(checkinsulaVIS[0]))\n",
    "\n",
    "checkofgVIS = multipletests(ofgVIS,method='fdr_bh')\n",
    "print(\"ofgVIS: \", get_positions(checkofgVIS[0]))\n",
    "\n",
    "checkmfgVIS = multipletests(mfgVIS,method='fdr_bh')\n",
    "print(\"mfgVIS: \", get_positions(checkmfgVIS[0]))\n",
    "\n",
    "checkaparhipVIS = multipletests(aparhipVIS,method='fdr_bh')\n",
    "print(\"aparhipVIS: \", get_positions(checkaparhipVIS[0]))\n",
    "\n",
    "checklingualVIS = multipletests(lingualVIS,method='fdr_bh')\n",
    "print(\"lingualVIS: \", get_positions(checklingualVIS[0]))\n",
    "\n",
    "checkrputamenVIS = multipletests(rputamenVIS,method='fdr_bh')\n",
    "print(\"rputamenVIS: \", get_positions(checkrputamenVIS[0]))\n",
    "\n",
    "checklputamenVIS = multipletests(lputamenVIS,method='fdr_bh')\n",
    "print(\"lputamenVIS: \", get_positions(checklputamenVIS[0]))\n",
    "\n",
    "checkcerebellumVIS = multipletests(cerebellumVIS,method='fdr_bh')\n",
    "print(\"cerebellumVIS: \", get_positions(checkcerebellumVIS[0]))\n",
    "\n",
    "# same with bonferroni\n",
    "\n",
    "print('\\nWith Bonferroni:\\n')\n",
    "\n",
    "checkBFramygVIS = multipletests(ramygVIS,method='bonferroni')\n",
    "print(\"ramygVIS: \", get_positions(checkBFramygVIS[0]))\n",
    "\n",
    "checkBFlamygVIS = multipletests(lamygVIS,method='bonferroni')\n",
    "print(\"lamygVIS: \", get_positions(checkBFlamygVIS[0]))\n",
    "\n",
    "checkBFrthalamusVIS = multipletests(rthalamusVIS,method='bonferroni')\n",
    "print(\"rthalamusVIS: \", get_positions(checkBFrthalamusVIS[0]))\n",
    "\n",
    "checkBFlthalamusVIS = multipletests(lthalamusVIS,method='bonferroni')\n",
    "print(\"lthalamusVIS: \", get_positions(checkBFlthalamusVIS[0]))\n",
    "\n",
    "checkBFbrainstemVIS = multipletests(brainstemVIS,method='bonferroni')\n",
    "print(\"brainstemVIS: \", get_positions(checkBFbrainstemVIS[0]))\n",
    "\n",
    "checkBFhypothalamusVIS = multipletests(hypothalamusVIS,method='bonferroni')\n",
    "print(\"hypothalamusVIS: \", get_positions(checkBFhypothalamusVIS[0]))\n",
    "\n",
    "checkBFmccVIS = multipletests(mccVIS,method='bonferroni')\n",
    "print(\"mccVIS: \", get_positions(checkBFmccVIS[0]))\n",
    "\n",
    "checkBFpccVIS = multipletests(pccVIS,method='bonferroni')\n",
    "print(\"pccVIS: \", get_positions(checkBFpccVIS[0]))\n",
    "\n",
    "checkBFinsulaVIS = multipletests(insulaVIS,method='bonferroni')\n",
    "print(\"insulaVIS: \", get_positions(checkBFinsulaVIS[0]))\n",
    "\n",
    "checkBFofgVIS = multipletests(ofgVIS,method='bonferroni')\n",
    "print(\"ofgVIS: \", get_positions(checkBFofgVIS[0]))\n",
    "\n",
    "checkBFmfgVIS = multipletests(mfgVIS,method='bonferroni')\n",
    "print(\"mfgVIS: \", get_positions(checkBFmfgVIS[0]))\n",
    "\n",
    "checkBFaparhipVIS = multipletests(aparhipVIS,method='bonferroni')\n",
    "print(\"aparhipVIS: \", get_positions(checkBFaparhipVIS[0]))\n",
    "\n",
    "checkBFlingualVIS = multipletests(lingualVIS,method='bonferroni')\n",
    "print(\"lingualVIS: \", get_positions(checkBFlingualVIS[0]))\n",
    "\n",
    "checkBFrputamenVIS = multipletests(rputamenVIS,method='bonferroni')\n",
    "print(\"rputamenVIS: \", get_positions(checkBFrputamenVIS[0]))\n",
    "\n",
    "checkBFlputamenVIS = multipletests(lputamenVIS,method='bonferroni')\n",
    "print(\"lputamenVIS: \", get_positions(checkBFlputamenVIS[0]))\n",
    "\n",
    "checkBFcerebellumVIS = multipletests(cerebellumVIS,method='bonferroni')\n",
    "print(\"cerebellumVIS: \", get_positions(checkBFcerebellumVIS[0]))\n"
   ]
  },
  {
   "cell_type": "markdown",
   "metadata": {},
   "source": [
    "### 2nd Correction (ROIs + Phases)"
   ]
  },
  {
   "cell_type": "code",
   "execution_count": 49,
   "metadata": {},
   "outputs": [],
   "source": [
    "order2VIS = ['rAmyg midvintVIS', 'lamyg midvintVIS', 'rThal midvintVIS', 'Thal midvintVIS', 'Brainstem midvintVIS', 'Hypothalamus midvintVIS', 'MCC midvintVIS', 'PCC midvintVIS', 'Insula midvintVIS', 'OFG midvintVIS', 'MFG midvintVIS', 'aPHG midvintVIS', 'Lingual gyrus midvintVIS', 'rPutamen midvintVIS', 'lPutamen midvintVIS', 'Cerebellum midvintVIS',\n",
    "             'rAmyg premvpreVIS', 'lAmyg premvpreVIS', 'rThal premvpreVIS', 'lThal premvpreVIS', 'Brainstem premvpreVIS', 'Hypothalamus premvpreVIS', 'MCC premvpreVIS', 'PCC premvpreVIS', 'Insula premvpreVIS', 'OFG premvpreVIS', 'MFG premvpreVIS', 'aPHG premvpreVIS', 'Lingual gyrus premvpreVIS', 'rPutamen premvpreVIS', 'lPutamen premvpreVIS', 'Cerebellum premvpreVIS',\n",
    "             'rAmyg premvictVIS', 'lAmyg premvictVIS', 'rThal premvictVIS', 'lThal premvictVIS', 'Brainstem premvictVIS', 'Hypothalamus premvictVIS', 'MCC premvictVIS', 'PCC premvictVIS', 'Insula premvictVIS', 'OFG premvictVIS', 'MFG premvictVIS', 'aPHG premvictVIS', 'Lingual gyrus premvictVIS', 'rPutamen premvictVIS', 'lPutamen premvictVIS', 'Cerebellum premvictVIS',\n",
    "            'rAmyg premvpostVIS', 'lAmyg premvpostVIS', 'rThal premvpostVIS', 'lThal premvpostVIS', 'Brainstem premvpostVIS', 'Hypothalamus premvpostVIS', 'MCC premvpostVIS', 'PCC premvpostVIS', 'Insula premvpostVIS', 'OFG premvpostVIS', 'MFG premvpostVIS', 'aPHG premvpostVIS', 'Lingual gyrus premvpostVIS', 'rPutamen premvpostVIS', 'lPutamen premvpostVIS', 'Cerebellum premvpostVIS',\n",
    "            'rAmyg midvpremVIS', 'lAmyg midvpremVIS', 'rThal midvpremVIS', 'lThal midvpremVIS', 'Brainstem midvpremVIS', 'Hypothalamus midvpremVIS', 'MCC midvpremVIS', 'PCC midvpremVIS', 'Insula midvpremVIS', 'OFG midvpremVIS', 'MFG midvpremVIS', 'aPHG midvpremVIS', 'Lingual gyrus midvpremVIS', 'rPutamen midvpremVIS', 'lPutamen midvpremVIS', 'Cerebellum midvpremVIS']\n",
    "\n",
    "\n",
    "allrois_allphasesVIS = [\n",
    "    0.8926411567082353, 0.23833381609088078, 0.8328885037637852, 0.699480957082785, 0.8204817168049096, 0.5661062694153245, 0.6829875150827421, 0.9641767039371248, 0.33517760566474386, 0.08994200425604022, 0.6309001839299315, 0.2766247242252932, 0.027150081587186497, 0.21540950145776502, 0.07887842974286896, 0.3615395357962041,\n",
    "    0.9623026777360344, 0.8249933443824671, 0.8166141717513491, 0.9933168822332055, 0.8864109171417801, 0.8983210698071156, 0.18822211133517947, 0.03879168528061942, 0.4730699616480256, 0.916218890275849, 0.5971292564614885, 0.8683178366680941, 0.9889997348854206, 0.667157747197966, 0.6833618111926916, 0.48251855771752183,\n",
    "    0.20195125107288772, 0.5156430385591035, 0.4353427601408099, 0.8075222435424892, 0.9918070277599308, 0.23445655231335527, 0.6984579738910608, 0.7868393723333538, 0.33891518561869927, 0.8006562062363652, 0.30380786088361894, 0.135507301613539, 0.6310180984784916, 0.7255007201700729, 0.35316219571198026, 0.9597397182669891,\n",
    "    0.8148721408895848, 0.9541829144600243, 0.8747732002176035, 0.9896564210269796, 0.9662187374644261, 0.7777777216452298, 0.5976796320945126, 0.38877533382672247, 0.6941848399659973, 0.6371222230685543, 0.7220621697535237, 0.42780925776328194, 0.526036799019687, 0.2911089787529218, 0.20893488294369758, 0.31154370992487584,\n",
    "    0.40291655420663797, 0.25863694066190074, 0.6406993536138708, 0.8566856043933095, 0.8703561357689115, 0.34647429781831407, 0.7942428667612225, 0.9408689857120296, 0.6293237560917775, 0.031236742623051303, 0.9538873990411343, 0.7215047453922332, 0.03894074244707283, 0.7479134431804519, 0.9249633418276652, 0.31432614840352213\n",
    "]"
   ]
  },
  {
   "cell_type": "markdown",
   "metadata": {},
   "source": [
    "Using FDR"
   ]
  },
  {
   "cell_type": "code",
   "execution_count": 50,
   "metadata": {},
   "outputs": [
    {
     "name": "stdout",
     "output_type": "stream",
     "text": [
      "allrois_allphasesVIS:  []\n"
     ]
    }
   ],
   "source": [
    "checkallrois_allphasesVIS = multipletests(allrois_allphasesVIS,method='fdr_bh') \n",
    "print(\"allrois_allphasesVIS: \", get_positions(checkallrois_allphasesVIS[0]))"
   ]
  },
  {
   "cell_type": "markdown",
   "metadata": {},
   "source": [
    "Using Bonferroni"
   ]
  },
  {
   "cell_type": "code",
   "execution_count": 51,
   "metadata": {},
   "outputs": [
    {
     "name": "stdout",
     "output_type": "stream",
     "text": [
      "allrois_allphasesVIS:  []\n"
     ]
    }
   ],
   "source": [
    "checkBallrois_allphasesVIS = multipletests(allrois_allphasesVIS,method='bonferroni')\n",
    "print(\"allrois_allphasesVIS: \", get_positions(checkBallrois_allphasesVIS[0]))"
   ]
  }
 ],
 "metadata": {
  "kernelspec": {
   "display_name": "Python 3",
   "language": "python",
   "name": "python3"
  },
  "language_info": {
   "codemirror_mode": {
    "name": "ipython",
    "version": 3
   },
   "file_extension": ".py",
   "mimetype": "text/x-python",
   "name": "python",
   "nbconvert_exporter": "python",
   "pygments_lexer": "ipython3",
   "version": "3.11.2"
  }
 },
 "nbformat": 4,
 "nbformat_minor": 2
}
