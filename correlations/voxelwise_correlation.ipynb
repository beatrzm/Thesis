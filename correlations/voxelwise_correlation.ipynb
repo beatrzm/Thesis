{
 "cells": [
  {
   "cell_type": "code",
   "execution_count": 29,
   "metadata": {},
   "outputs": [],
   "source": [
    "import os\n",
    "import numpy as np\n",
    "import nibabel as nib\n",
    "from scipy.stats import scoreatpercentile\n",
    "from scipy.optimize import curve_fit"
   ]
  },
  {
   "cell_type": "code",
   "execution_count": 30,
   "metadata": {},
   "outputs": [],
   "source": [
    "patients_interictal = [\"sub-patient002\",\"sub-patient003\",\"sub-patient005\",\"sub-patient006\",\"sub-patient008\",\"sub-patient009\",\"sub-patient012\",\"sub-patient013\",\"sub-patient034\",\"sub-patient038\",\"sub-patient041\",\"sub-patient043\",\"sub-patient045\"]\n",
    "\n",
    "patients_preictal = [\"sub-patient002\",\"sub-patient003\",\"sub-patient005\",\"sub-patient006\",\"sub-patient008\",\"sub-patient009\",\"sub-patient013\",\"sub-patient034\",\"sub-patient038\",\"sub-patient041\",\"sub-patient043\",\"sub-patient045\"]\n",
    "\n",
    "patients_ictal = [\"sub-patient001\",\"sub-patient002\",\"sub-patient003\",\"sub-patient004\",\"sub-patient005\",\"sub-patient006\",\"sub-patient008\",\"sub-patient009\",\"sub-patient013\",\"sub-patient034\",\"sub-patient038\",\"sub-patient041\",\"sub-patient045\",\"sub-patient052\"]\n",
    "\n",
    "patients_postictal = [\"sub-patient001\",\"sub-patient002\",\"sub-patient003\",\"sub-patient005\",\"sub-patient006\",\"sub-patient008\",\"sub-patient009\",\"sub-patient012\",\"sub-patient034\",\"sub-patient038\",\"sub-patient041\", \"sub-patient043\",\"sub-patient045\"]\n"
   ]
  },
  {
   "cell_type": "markdown",
   "metadata": {},
   "source": [
    "# Interictal Patients Correlations"
   ]
  },
  {
   "cell_type": "code",
   "execution_count": 31,
   "metadata": {},
   "outputs": [],
   "source": [
    "path = \"/home/bpereira/func/\"\n",
    "restpath = \"ses-interictal/ses-interictal-proc.feat/maps_to_corr/\"\n",
    "ses = \"ses-interictal\"\n",
    "test = [\"sub-patient002\"]\n",
    "\n",
    "allsubs_happy = []\n",
    "allsubs_angry = []\n",
    "allsubs_vis = []\n",
    "allsubs_asl = []\n",
    "allsubs_cvr = []\n",
    "\n",
    "for sub in test:\n",
    "\n",
    "    # neuronal\n",
    "    happy_path = os.path.join(path,sub,restpath,f\"{sub}_{ses}_mapCOPE8_smoothed8.nii\")\n",
    "    angry_path = os.path.join(path,sub,restpath,f\"{sub}_{ses}_mapCOPE9_smoothed8.nii\")\n",
    "    vis_path = os.path.join(path,sub,restpath,f\"{sub}_{ses}_mapCOPE9_smoothed8.nii\")\n",
    "\n",
    "    # vascular\n",
    "    asl_path = os.path.join(\"/home/mig_n2treatdata/derivatives/perf-preproc\",sub,ses,\"smoothed8_perfusion_MNI.nii\")\n",
    "    cvr_path = []\n",
    "\n",
    "    # load data\n",
    "    happynii = nib.load(happy_path)\n",
    "    happy = happynii.get_fdata()\n",
    "\n",
    "    angrynii = nib.load(angry_path)\n",
    "    angry = angrynii.get_fdata()\n",
    "\n",
    "    visnii = nib.load(vis_path)\n",
    "    vis = visnii.get_fdata()\n",
    "\n",
    "    aslnii = nib.load(asl_path)\n",
    "    asl = aslnii.get_fdata()\n",
    "\n",
    "    cvrnii = []\n",
    "    cvr = []\n",
    "\n",
    "    # cut fov\n",
    "\n",
    "    cuthappy = happy[:,:,16:68]\n",
    "\n"
   ]
  },
  {
   "cell_type": "code",
   "execution_count": 32,
   "metadata": {},
   "outputs": [
    {
     "name": "stdout",
     "output_type": "stream",
     "text": [
      "(91, 109, 91)\n",
      "(91, 109, 52)\n",
      "(91, 109, 91)\n"
     ]
    }
   ],
   "source": [
    "print(happy.shape)\n",
    "print(cuthappy.shape)\n",
    "print(asl.shape)"
   ]
  }
 ],
 "metadata": {
  "language_info": {
   "name": "python"
  }
 },
 "nbformat": 4,
 "nbformat_minor": 2
}
